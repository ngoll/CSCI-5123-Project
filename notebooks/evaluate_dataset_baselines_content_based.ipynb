{
 "cells": [
  {
   "cell_type": "code",
   "execution_count": 1,
   "metadata": {},
   "outputs": [],
   "source": [
    "import pandas as pd\n",
    "import os\n",
    "os.chdir(os.path.dirname(os.getcwd()))\n",
    "\n",
    "%load_ext autoreload\n",
    "%autoreload 2\n",
    "%reload_ext autoreload\n",
    "\n",
    "\n",
    "from resources.constants import *\n",
    "\n",
    "pictures_df = pd.read_csv(PICTURE_TRIPLETS_CSV_PATH, sep=CSV_SEPARATOR)\n",
    "outfits_df = pd.read_csv(OUTFITS_CSV_PATH, sep=CSV_SEPARATOR)\n",
    "user_triplets_df = pd.read_csv(USER_ACTIVITY_TRIPLETS_CSV_PATH, sep=CSV_SEPARATOR)\n",
    "\n",
    "# Ensure tags are lists\n",
    "outfits_df[\"tag_categories\"] = outfits_df[\"tag_categories\"].apply(eval)\n",
    "outfits_df[\"outfit_tags\"] = outfits_df[\"outfit_tags\"].apply(eval)"
   ]
  },
  {
   "cell_type": "code",
   "execution_count": 2,
   "metadata": {},
   "outputs": [],
   "source": [
    "# Append orders from before 2020 to the evaluated dataset\n",
    "original_orders_df = pd.read_csv(ORIGINAL_ORDERS_CSV_PATH, sep=CSV_SEPARATOR)\n",
    "user_triplets_df = pd.concat([user_triplets_df, original_orders_df], ignore_index=True)"
   ]
  },
  {
   "cell_type": "code",
   "execution_count": 4,
   "metadata": {},
   "outputs": [
    {
     "data": {
      "application/vnd.jupyter.widget-view+json": {
       "model_id": "0a900e4e64834a2bade3d9e2c1b665c9",
       "version_major": 2,
       "version_minor": 0
      },
      "text/plain": [
       "  0%|          | 0/50293 [00:00<?, ?it/s]"
      ]
     },
     "metadata": {},
     "output_type": "display_data"
    }
   ],
   "source": [
    "import src.load_baseline_resources\n",
    "import pickle\n",
    "from resources.constants import EMBEDDING_MODEL_DICT_PICKLE_PATH\n",
    "\n",
    "loaded_embeddings_dict = src.load_baseline_resources.load_embeddings_from_folder()\n",
    "pickle.dump(loaded_embeddings_dict, open(EMBEDDING_MODEL_DICT_PICKLE_PATH, \"wb\"))\n",
    "\n",
    "# Loading embeddings is expensive due to file operations, so we save them to a pickle file. To recreate this pickle file, run the commented code above\n",
    "loaded_embeddings_dict = pickle.load(open(EMBEDDING_MODEL_DICT_PICKLE_PATH, \"rb\"))\n",
    "\n",
    "# Introduce the embeddings for each outfit, if the outfit has no embeddings, we drop it\n",
    "pictures_df[\"embeddings\"] = pictures_df[\"picture.id\"].map(loaded_embeddings_dict)\n",
    "outfit_pictures_df = pictures_df.groupby(\"outfit.id\").agg({\"picture.id\": list, \"embeddings\": list}).reset_index()\n",
    "outfits_df[\"embeddings\"] = outfits_df[\"id\"].map(outfit_pictures_df.set_index(\"outfit.id\")[\"embeddings\"])\n",
    "outfits_df = outfits_df.dropna(subset=[\"embeddings\"])"
   ]
  },
  {
   "cell_type": "code",
   "execution_count": 5,
   "metadata": {},
   "outputs": [
    {
     "name": "stdout",
     "output_type": "stream",
     "text": [
      "4949\n"
     ]
    }
   ],
   "source": [
    "from src.prepare_train_test_splits import translate_user_triplets_to_orders, remove_consecutive_duplicates\n",
    "\n",
    "# Convert triplets into entries for each individual user\n",
    "user_triplets_df = remove_consecutive_duplicates(user_triplets_df)\n",
    "user_triplets_df = user_triplets_df[user_triplets_df[\"outfit.id\"].isin(outfits_df[\"id\"])] # Remove triplets with no embeddings\n",
    "user_orders_df = translate_user_triplets_to_orders(user_triplets_df, outfits_df)\n"
   ]
  },
  {
   "cell_type": "code",
   "execution_count": 6,
   "metadata": {},
   "outputs": [
    {
     "name": "stdout",
     "output_type": "stream",
     "text": [
      "No unique outfit found with groups ['group.4bd4ee24eac8948e82783b15d9404f6b'\n",
      " 'group.4bd4ee24eac8948e82783b15d9404f6b']\n",
      "No unique outfit found with groups ['group.423a23f6717e6d85adac54c051ee9832'\n",
      " 'group.423a23f6717e6d85adac54c051ee9832']\n",
      "No unique outfit found with groups ['group.e0cb0f6e113edc4df8a1e304376734f6'\n",
      " 'group.e0cb0f6e113edc4df8a1e304376734f6']\n",
      "No unique outfit found with groups ['group.384b8170c6a6ddfd568ff7fab5fb49c4'\n",
      " 'group.384b8170c6a6ddfd568ff7fab5fb49c4']\n",
      "No unique outfit found with groups ['group.edb60c2f440a9ac7d0883fb9371c8607'\n",
      " 'group.edb60c2f440a9ac7d0883fb9371c8607']\n",
      "No unique outfit found with groups ['group.a3ab26b5d2f7ef2cf102422a3dde3b46'\n",
      " 'group.a3ab26b5d2f7ef2cf102422a3dde3b46']\n",
      "No unique outfit found with groups ['group.2c7095c075561fe6278f3a2d7c1d6ac9'\n",
      " 'group.2c7095c075561fe6278f3a2d7c1d6ac9']\n",
      "No unique outfit found with groups ['group.ae8da3f0ad6f8ff3f83b2af96e975991'\n",
      " 'group.ae8da3f0ad6f8ff3f83b2af96e975991']\n",
      "No unique outfit found with groups ['group.1bfd2412df50ac58b23bd8f52c6b4b35'\n",
      " 'group.1bfd2412df50ac58b23bd8f52c6b4b35']\n",
      "No unique outfit found with groups ['group.148f5272ecc1480d49191b3923aab5a2'\n",
      " 'group.148f5272ecc1480d49191b3923aab5a2']\n",
      "No unique outfit found with groups ['group.8e50238120d13b31284f151941c2ee81'\n",
      " 'group.8e50238120d13b31284f151941c2ee81']\n",
      "No unique outfit found with groups ['group.a494d07781a1aab0e3a42989288feff2'\n",
      " 'group.a494d07781a1aab0e3a42989288feff2']\n",
      "No unique outfit found with groups ['group.a1d284ef1c7035dd14e57eba3838a303'\n",
      " 'group.a1d284ef1c7035dd14e57eba3838a303']\n",
      "No unique outfit found with groups ['group.9b5204b87abc93f8f0467b0a6a9c6a97'\n",
      " 'group.9b5204b87abc93f8f0467b0a6a9c6a97'\n",
      " 'group.9b5204b87abc93f8f0467b0a6a9c6a97']\n"
     ]
    }
   ],
   "source": [
    "from src.prepare_train_test_splits import convert_user_orders_to_train_test_splits\n",
    "\n",
    "user_splits_df, user_splits_unique_df = convert_user_orders_to_train_test_splits(user_orders_df, percentage_test=0.3)"
   ]
  },
  {
   "cell_type": "code",
   "execution_count": 7,
   "metadata": {},
   "outputs": [],
   "source": [
    "from sklearn.preprocessing import MultiLabelBinarizer\n",
    "import numpy as np\n",
    "\n",
    "all_tags = outfits_df[\"outfit_tags\"].values.tolist()\n",
    "mlb = MultiLabelBinarizer()\n",
    "one_hot_encoded = mlb.fit_transform(all_tags)\n",
    "outfits_df[\"one_hot_encoded\"] = [np.array(oh_list) for oh_list in one_hot_encoded.tolist()]"
   ]
  },
  {
   "cell_type": "code",
   "execution_count": 8,
   "metadata": {},
   "outputs": [],
   "source": [
    "import torch\n",
    "import torch.nn as nn\n",
    "import torch.optim as optim\n",
    "\n",
    "# Load your dataframe (example)\n",
    "# outfits_df = pd.read_csv(\"path_to_your_dataframe.csv\")\n",
    "\n",
    "# Assuming your dataframe has the following columns:\n",
    "# \"one_hot_encoded\" and \"mean_embeddings\"\n",
    "# Convert them to numpy arrays\n",
    "def get_mean_embedding(embeddings):\n",
    "    embeddings = np.array(embeddings)\n",
    "    mean_embedding = np.mean(embeddings, axis=0)\n",
    "    return mean_embedding\n",
    "\n",
    "def concatenate_embeddings(oh_embeddings, image_embeddings, oh_weighting):\n",
    "    oh_embeddings = np.array(oh_embeddings) * oh_weighting\n",
    "    return np.concatenate((oh_embeddings, image_embeddings))\n",
    "\n",
    "outfits_df[\"mean_embeddings\"] = outfits_df[\"embeddings\"].apply(lambda x: get_mean_embedding(x))\n",
    "#one_hot_encoded = np.array(outfits_df[\"one_hot_encoded\"].tolist())\n",
    "#mean_embeddings = np.array(outfits_df[\"mean_embeddings\"].tolist())\n",
    "\n",
    "outfits_df[\"concatenated_embeddings\"] = outfits_df.apply(lambda x: concatenate_embeddings(x[\"one_hot_encoded\"], x[\"mean_embeddings\"], oh_weighting=4), axis=1)\n",
    "\n",
    "\n",
    "# Converting lists to tensors is inefficient, so we convert them to numpy arrays first. Saves a couple of seconds.\n",
    "input_embeddings = np.vstack(outfits_df[\"concatenated_embeddings\"].values)\n",
    "input_embeddings = input_embeddings.astype(np.float32)\n",
    "input_embeddings = torch.tensor(input_embeddings) "
   ]
  },
  {
   "cell_type": "code",
   "execution_count": 9,
   "metadata": {},
   "outputs": [
    {
     "data": {
      "application/vnd.jupyter.widget-view+json": {
       "model_id": "593ed99ec2f1400b8073da51e52caffd",
       "version_major": 2,
       "version_minor": 0
      },
      "text/plain": [
       "  0%|          | 0/3 [00:00<?, ?it/s]"
      ]
     },
     "metadata": {},
     "output_type": "display_data"
    },
    {
     "name": "stdout",
     "output_type": "stream",
     "text": [
      "Epoch [1/3], Loss: 0.1819\n",
      "Epoch [2/3], Loss: 0.1676\n",
      "Epoch [3/3], Loss: 0.1680\n"
     ]
    }
   ],
   "source": [
    "from tqdm.notebook import tqdm\n",
    "\n",
    "class Autoencoder(nn.Module):\n",
    "    def __init__(self, input_dim, hidden_dim, latent_dim):\n",
    "        super(Autoencoder, self).__init__()\n",
    "        self.encoder = nn.Sequential(\n",
    "            nn.Linear(input_dim, hidden_dim),\n",
    "            nn.ReLU(),\n",
    "            nn.Linear(hidden_dim, latent_dim),\n",
    "            nn.ReLU()\n",
    "        )\n",
    "        self.decoder = nn.Sequential(\n",
    "            nn.Linear(latent_dim, hidden_dim),\n",
    "            nn.ReLU(),\n",
    "            nn.Linear(hidden_dim, input_dim),\n",
    "            nn.Sigmoid()\n",
    "        )\n",
    "\n",
    "    def forward(self, x):\n",
    "        encoded = self.encoder(x)\n",
    "        decoded = self.decoder(encoded)\n",
    "        return encoded, decoded\n",
    "\n",
    "input_dim = input_embeddings.shape[1]\n",
    "hidden_dim = 2048 \n",
    "latent_dim = 512 \n",
    "\n",
    "model = Autoencoder(input_dim, hidden_dim, latent_dim)\n",
    "criterion = nn.MSELoss()\n",
    "optimizer = optim.Adam(model.parameters(), lr=0.001)\n",
    "\n",
    "num_epochs = 3\n",
    "batch_size = 32\n",
    "\n",
    "for epoch in tqdm(range(num_epochs)):\n",
    "    permutation = torch.randperm(input_embeddings.size()[0])\n",
    "    \n",
    "    for i in range(0, input_embeddings.size()[0], batch_size):\n",
    "        indices = permutation[i:i+batch_size]\n",
    "        batch_inputs = input_embeddings[indices]\n",
    "\n",
    "        encoded, decoded = model(batch_inputs)\n",
    "        loss = criterion(decoded, batch_inputs)\n",
    "\n",
    "        optimizer.zero_grad()\n",
    "        loss.backward()\n",
    "        optimizer.step()\n",
    "\n",
    "    print(f'Epoch [{epoch+1}/{num_epochs}], Loss: {loss.item():.4f}')\n",
    "\n",
    "# Save the model\n",
    "#torch.save(model.state_dict(), 'autoencoder_model.pth')\n"
   ]
  },
  {
   "cell_type": "code",
   "execution_count": 10,
   "metadata": {},
   "outputs": [
    {
     "name": "stdout",
     "output_type": "stream",
     "text": [
      "(15157, 512)\n"
     ]
    }
   ],
   "source": [
    "def get_outfit_embeddings(outfits_df, model):\n",
    "    one_hot_encoded = np.array(outfits_df[\"one_hot_encoded\"].tolist())\n",
    "    mean_embeddings = np.array(outfits_df[\"mean_embeddings\"].tolist())\n",
    "    input_embeddings = np.concatenate((one_hot_encoded, mean_embeddings), axis=1)\n",
    "    input_embeddings = torch.tensor(input_embeddings, dtype=torch.float32)\n",
    "    with torch.no_grad():\n",
    "        encoded, decoded = model(input_embeddings)\n",
    "    return encoded\n",
    "\n",
    "outfit_embeddings = get_outfit_embeddings(outfits_df, model)\n",
    "outfits_df[\"outfit_embeddings\"] = [x.numpy() for x in outfit_embeddings]\n",
    "print(np.stack(outfits_df[\"outfit_embeddings\"].values).shape)"
   ]
  },
  {
   "cell_type": "code",
   "execution_count": 11,
   "metadata": {},
   "outputs": [],
   "source": [
    "from sklearn.neighbors import NearestNeighbors\n",
    "import numpy as np\n",
    "from tqdm.notebook import tqdm\n",
    "\n",
    "NUM_ITEMS = 100\n",
    "\n",
    "def find_rental_history_embeddings(outfit_ids, outfit_to_embedding_dict):\n",
    "    outfit_ids = [outfit_id for outfit_id in outfit_ids if outfit_id != \"nan\"] # TODO: Find out where these nan values are coming from, only two of them for now, as far as I can tell.\n",
    "    return [outfit_to_embedding_dict[outfit_id] for outfit_id in outfit_ids]\n",
    "\n",
    "def get_mean_embedding(embeddings):\n",
    "    embeddings = np.array(embeddings)\n",
    "    mean_embedding = np.mean(embeddings, axis=0)\n",
    "    return mean_embedding\n",
    "\n",
    "def get_nearest_neighbors_batch(embeddings, nn, num_items, index_to_id):\n",
    "    distances, indices = nn.kneighbors(embeddings, n_neighbors=num_items+1)\n",
    "    ids = [[index_to_id[i] for i in idx[1:]] for idx in indices]\n",
    "    distances = [dist[1:] for dist in distances]\n",
    "    return ids, distances\n",
    "\n",
    "\n",
    "def predict_nearest_neighbors(df, outfits_df, embeddings_column=\"embeddings\"):\n",
    "    outfit_to_embedding_dict = outfits_df.set_index(\"id\")[embeddings_column].to_dict()\n",
    "    index_to_outfit_dict = {i: outfit_id for i, outfit_id in enumerate(outfits_df[\"id\"].values)}\n",
    "    group_to_embedding_dict = outfits_df.set_index(\"group\")[embeddings_column].to_dict()\n",
    "    index_to_group_dict = {i: group for i, group in enumerate(outfits_df[\"group\"].values)}\n",
    "    \n",
    "    df[\"train_id_embeddings\"] = df[\"train_outfit_ids\"].apply(lambda x: find_rental_history_embeddings(x, outfit_to_embedding_dict))\n",
    "    df[\"train_group_embeddings\"] = df[\"train_group\"].apply(lambda x: find_rental_history_embeddings(x, group_to_embedding_dict))\n",
    "\n",
    "    df[\"rental_history_id_embedding\"] = df[\"train_id_embeddings\"].apply(lambda x: get_mean_embedding(x))\n",
    "    df[\"rental_history_group_embedding\"] = df[\"train_group_embeddings\"].apply(lambda x: get_mean_embedding(x))\n",
    "\n",
    "    nearest_neighbors = NearestNeighbors(n_neighbors=NUM_ITEMS+1, metric=\"cosine\")\n",
    "    embeddings = np.stack(outfits_df[embeddings_column].values)\n",
    "    nearest_neighbors.fit(embeddings)\n",
    "\n",
    "    id_embeddings = np.stack(df[\"rental_history_id_embedding\"].values)\n",
    "    group_embeddings = np.stack(df[\"rental_history_group_embedding\"].values)\n",
    "\n",
    "    id_predictions, id_distances = get_nearest_neighbors_batch(id_embeddings, nearest_neighbors, NUM_ITEMS, index_to_outfit_dict)\n",
    "    group_predictions, group_distances = get_nearest_neighbors_batch(group_embeddings, nearest_neighbors, NUM_ITEMS, index_to_group_dict)\n",
    "\n",
    "    df[\"id_prediction\"], df[\"id_prediction_distances\"] = id_predictions, id_distances\n",
    "    df[\"group_prediction\"], df[\"group_prediction_distances\"] = group_predictions, group_distances\n",
    "    \n",
    "    return df\n",
    "\n",
    "def predict_nearest_neighbors_images(df, outfits_df, embeddings_column=\"embeddings\"):\n",
    "    outfits_df[\"mean_embeddings\"] = outfits_df[embeddings_column].apply(lambda x: get_mean_embedding(x))\n",
    "\n",
    "    return predict_nearest_neighbors(df, outfits_df, embeddings_column=\"mean_embeddings\")\n",
    "\n",
    "# Apply to dataframes\n",
    "tqdm.pandas()\n",
    "\n",
    "METHOD = \"Img Embed\"\n",
    "\n",
    "if METHOD == \"Tag Embed\":\n",
    "    # Tag based predictions\n",
    "    user_splits_df = predict_nearest_neighbors(user_splits_df, outfits_df, embeddings_column=\"one_hot_encoded\")\n",
    "    user_splits_unique_df = predict_nearest_neighbors(user_splits_unique_df, outfits_df, embeddings_column=\"one_hot_encoded\")\n",
    "elif METHOD == \"Img Embed\":\n",
    "    # Image based predictions\n",
    "    user_splits_df = predict_nearest_neighbors_images(user_splits_df, outfits_df, embeddings_column=\"embeddings\")\n",
    "    user_splits_unique_df = predict_nearest_neighbors_images(user_splits_unique_df, outfits_df, embeddings_column=\"embeddings\")\n",
    "elif METHOD == \"Combined Embed\":\n",
    "    # Combined predictions\n",
    "    user_splits_df = predict_nearest_neighbors(user_splits_df, outfits_df, embeddings_column=\"outfit_embeddings\")\n",
    "    user_splits_unique_df = predict_nearest_neighbors(user_splits_unique_df, outfits_df, embeddings_column=\"outfit_embeddings\")\n",
    "elif METHOD == \"Concat Img Tag Embed\":\n",
    "    # Concat predictions\n",
    "    user_splits_df = predict_nearest_neighbors(user_splits_df, outfits_df, embeddings_column=\"concatenated_embeddings\")\n",
    "    user_splits_unique_df = predict_nearest_neighbors(user_splits_unique_df, outfits_df, embeddings_column=\"concatenated_embeddings\")"
   ]
  },
  {
   "cell_type": "code",
   "execution_count": 12,
   "metadata": {},
   "outputs": [
    {
     "data": {
      "text/plain": [
       "id_hit_rate_at_100       0.133436\n",
       "id_hit_rate_at_10        0.035549\n",
       "group_hit_rate_at_100    0.144256\n",
       "group_hit_rate_at_10     0.038640\n",
       "dtype: float64"
      ]
     },
     "metadata": {},
     "output_type": "display_data"
    },
    {
     "data": {
      "text/plain": [
       "id_hit_rate_at_100       0.153051\n",
       "id_hit_rate_at_10        0.034126\n",
       "group_hit_rate_at_100    0.160807\n",
       "group_hit_rate_at_10     0.036453\n",
       "dtype: float64"
      ]
     },
     "metadata": {},
     "output_type": "display_data"
    }
   ],
   "source": [
    "from IPython.display import display\n",
    "\n",
    "def evaluate_hit_rate_at_n(test_id, predicted_ids, n=10):\n",
    "    if predicted_ids is np.nan:\n",
    "        print(f\"None prediction for {test_id}!\")\n",
    "        return 0\n",
    "    predicted_ids = predicted_ids[:n]\n",
    "    if type(test_id) == str or type(test_id) == np.str_:\n",
    "        if test_id in predicted_ids:\n",
    "            #print(f\"Hit at {n} for {test_id} in {predicted_ids}\")\n",
    "            return 1\n",
    "    elif type(test_id) == list or type(test_id) == np.ndarray:\n",
    "        for outfit_id in test_id:\n",
    "            if outfit_id in predicted_ids:\n",
    "                return 1\n",
    "    else:\n",
    "        raise ValueError(f\"Unknown type {type(test_id)}\")\n",
    "    return 0\n",
    "\n",
    "HIT_RATE_COLUMNS = [\"id_hit_rate_at_100\", \"id_hit_rate_at_10\", \"group_hit_rate_at_100\", \"group_hit_rate_at_10\"]\n",
    "def evaluate_df_hit_rate_at_n(df, n=10):\n",
    "    df[\"id_hit_rate_at_100\"] = df.apply(lambda x: evaluate_hit_rate_at_n(x[\"test_outfit_id\"], x[\"id_prediction\"], n=100), axis=1)\n",
    "    df[\"id_hit_rate_at_10\"] = df.apply(lambda x: evaluate_hit_rate_at_n(x[\"test_outfit_id\"], x[\"id_prediction\"], n=10), axis=1)\n",
    "    df[\"group_hit_rate_at_100\"] = df.apply(lambda x: evaluate_hit_rate_at_n(x[\"test_group\"], x[\"group_prediction\"], n=100), axis=1)\n",
    "    df[\"group_hit_rate_at_10\"] = df.apply(lambda x: evaluate_hit_rate_at_n(x[\"test_group\"], x[\"group_prediction\"], n=10), axis=1)\n",
    "    display(df[HIT_RATE_COLUMNS].mean())\n",
    "    return df\n",
    "\n",
    "\n",
    "user_splits_df = evaluate_df_hit_rate_at_n(user_splits_df, n=10)\n",
    "user_splits_unique_df = evaluate_df_hit_rate_at_n(user_splits_unique_df, n=10)"
   ]
  },
  {
   "cell_type": "code",
   "execution_count": 13,
   "metadata": {},
   "outputs": [
    {
     "name": "stdout",
     "output_type": "stream",
     "text": [
      "Img Embed Ind & 0.0355 & 0.1334 & 0.0341 & 0.1531 \\\\\n",
      "Img Embed Groups & 0.0386 & 0.1443 & 0.0365 & 0.1608 \\\\\\hline\n",
      "\n"
     ]
    }
   ],
   "source": [
    "import pyperclip\n",
    "\n",
    "def format_dicts_into_latex(all_dict, ind_dict, precision=4, run_name=\"Random\"):\n",
    "    first_row = f\"{run_name} Ind & {all_dict['id_hit_rate_at_10']:.{precision}f} & {all_dict['id_hit_rate_at_100']:.{precision}f} & {ind_dict['id_hit_rate_at_10']:.{precision}f} & {ind_dict['id_hit_rate_at_100']:.{precision}f} \\\\\\\\\"\n",
    "    second_row = f\"{run_name} Groups & {all_dict['group_hit_rate_at_10']:.{precision}f} & {all_dict['group_hit_rate_at_100']:.{precision}f} & {ind_dict['group_hit_rate_at_10']:.{precision}f} & {ind_dict['group_hit_rate_at_100']:.{precision}f} \\\\\\\\\\\\hline\"\n",
    "    full_string = first_row + \"\\n\" + second_row + \"\\n\"\n",
    "    print(full_string)\n",
    "    pyperclip.copy(full_string)\n",
    "\n",
    "all_dict = {column: user_splits_df[column].mean() for column in HIT_RATE_COLUMNS}\n",
    "ind_dict = {column: user_splits_unique_df[column].mean() for column in HIT_RATE_COLUMNS}\n",
    "\n",
    "format_dicts_into_latex(all_dict, ind_dict, precision=4, run_name=METHOD)"
   ]
  },
  {
   "cell_type": "code",
   "execution_count": 14,
   "metadata": {},
   "outputs": [],
   "source": [
    "import numpy as np\n",
    "\n",
    "def get_outfit_category(tag_categories, tags, category):\n",
    "    tag_categories, tags = np.array(tag_categories), np.array(tags)\n",
    "    category_indexes = np.where(tag_categories == category)[0]\n",
    "    if len(category_indexes) == 0:\n",
    "        return \"\"\n",
    "    cat_tags = tags[category_indexes]\n",
    "    output = str(cat_tags[0])\n",
    "    return output\n",
    "\n",
    "outfits_df[\"size\"] = outfits_df.apply(lambda x: get_outfit_category(x[\"tag_categories\"], x[\"outfit_tags\"], \"Size\"), axis=1)\n"
   ]
  }
 ],
 "metadata": {
  "kernelspec": {
   "display_name": "baseline-env",
   "language": "python",
   "name": "python3"
  },
  "language_info": {
   "codemirror_mode": {
    "name": "ipython",
    "version": 3
   },
   "file_extension": ".py",
   "mimetype": "text/x-python",
   "name": "python",
   "nbconvert_exporter": "python",
   "pygments_lexer": "ipython3",
   "version": "3.9.7"
  }
 },
 "nbformat": 4,
 "nbformat_minor": 2
}
